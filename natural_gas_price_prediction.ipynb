{
 "cells": [
  {
   "cell_type": "code",
   "execution_count": 1,
   "metadata": {
    "colab": {},
    "colab_type": "code",
    "id": "XxoTEjIOXnoo"
   },
   "outputs": [],
   "source": [
    "import numpy as np\n",
    "import pandas as pd"
   ]
  },
  {
   "cell_type": "code",
   "execution_count": 4,
   "metadata": {
    "colab": {},
    "colab_type": "code",
    "id": "ZAi9gR4KX2do"
   },
   "outputs": [],
   "source": [
    "dataset=pd.read_csv(r\"F:\\natural\\daily_csv.csv\")"
   ]
  },
  {
   "cell_type": "code",
   "execution_count": 5,
   "metadata": {
    "colab": {
     "base_uri": "https://localhost:8080/",
     "height": 423
    },
    "colab_type": "code",
    "executionInfo": {
     "elapsed": 1383,
     "status": "ok",
     "timestamp": 1597754393842,
     "user": {
      "displayName": "Deepthi Yamini",
      "photoUrl": "",
      "userId": "15042166041558652979"
     },
     "user_tz": -330
    },
    "id": "KYbXZCdrYIL5",
    "outputId": "90d263a8-d8a0-4e75-fa3f-83d41f8d8a65"
   },
   "outputs": [
    {
     "data": {
      "text/html": [
       "<div>\n",
       "<style scoped>\n",
       "    .dataframe tbody tr th:only-of-type {\n",
       "        vertical-align: middle;\n",
       "    }\n",
       "\n",
       "    .dataframe tbody tr th {\n",
       "        vertical-align: top;\n",
       "    }\n",
       "\n",
       "    .dataframe thead th {\n",
       "        text-align: right;\n",
       "    }\n",
       "</style>\n",
       "<table border=\"1\" class=\"dataframe\">\n",
       "  <thead>\n",
       "    <tr style=\"text-align: right;\">\n",
       "      <th></th>\n",
       "      <th>Date</th>\n",
       "      <th>Price</th>\n",
       "    </tr>\n",
       "  </thead>\n",
       "  <tbody>\n",
       "    <tr>\n",
       "      <th>0</th>\n",
       "      <td>1997-01-07</td>\n",
       "      <td>3.82</td>\n",
       "    </tr>\n",
       "    <tr>\n",
       "      <th>1</th>\n",
       "      <td>1997-01-08</td>\n",
       "      <td>3.80</td>\n",
       "    </tr>\n",
       "    <tr>\n",
       "      <th>2</th>\n",
       "      <td>1997-01-09</td>\n",
       "      <td>3.61</td>\n",
       "    </tr>\n",
       "    <tr>\n",
       "      <th>3</th>\n",
       "      <td>1997-01-10</td>\n",
       "      <td>3.92</td>\n",
       "    </tr>\n",
       "    <tr>\n",
       "      <th>4</th>\n",
       "      <td>1997-01-13</td>\n",
       "      <td>4.00</td>\n",
       "    </tr>\n",
       "    <tr>\n",
       "      <th>...</th>\n",
       "      <td>...</td>\n",
       "      <td>...</td>\n",
       "    </tr>\n",
       "    <tr>\n",
       "      <th>5933</th>\n",
       "      <td>2020-08-05</td>\n",
       "      <td>2.23</td>\n",
       "    </tr>\n",
       "    <tr>\n",
       "      <th>5934</th>\n",
       "      <td>2020-08-06</td>\n",
       "      <td>2.26</td>\n",
       "    </tr>\n",
       "    <tr>\n",
       "      <th>5935</th>\n",
       "      <td>2020-08-07</td>\n",
       "      <td>2.15</td>\n",
       "    </tr>\n",
       "    <tr>\n",
       "      <th>5936</th>\n",
       "      <td>2020-08-10</td>\n",
       "      <td>2.18</td>\n",
       "    </tr>\n",
       "    <tr>\n",
       "      <th>5937</th>\n",
       "      <td>2020-08-11</td>\n",
       "      <td>2.19</td>\n",
       "    </tr>\n",
       "  </tbody>\n",
       "</table>\n",
       "<p>5938 rows × 2 columns</p>\n",
       "</div>"
      ],
      "text/plain": [
       "            Date  Price\n",
       "0     1997-01-07   3.82\n",
       "1     1997-01-08   3.80\n",
       "2     1997-01-09   3.61\n",
       "3     1997-01-10   3.92\n",
       "4     1997-01-13   4.00\n",
       "...          ...    ...\n",
       "5933  2020-08-05   2.23\n",
       "5934  2020-08-06   2.26\n",
       "5935  2020-08-07   2.15\n",
       "5936  2020-08-10   2.18\n",
       "5937  2020-08-11   2.19\n",
       "\n",
       "[5938 rows x 2 columns]"
      ]
     },
     "execution_count": 5,
     "metadata": {},
     "output_type": "execute_result"
    }
   ],
   "source": [
    "dataset"
   ]
  },
  {
   "cell_type": "code",
   "execution_count": 4,
   "metadata": {
    "colab": {
     "base_uri": "https://localhost:8080/",
     "height": 69
    },
    "colab_type": "code",
    "executionInfo": {
     "elapsed": 1504,
     "status": "ok",
     "timestamp": 1597754398463,
     "user": {
      "displayName": "Deepthi Yamini",
      "photoUrl": "",
      "userId": "15042166041558652979"
     },
     "user_tz": -330
    },
    "id": "JNvS223tYKK5",
    "outputId": "381130f8-d5d2-4ff6-98ef-1c0d981a16c7"
   },
   "outputs": [
    {
     "data": {
      "text/plain": [
       "Date     False\n",
       "Price     True\n",
       "dtype: bool"
      ]
     },
     "execution_count": 4,
     "metadata": {},
     "output_type": "execute_result"
    }
   ],
   "source": [
    "dataset.isnull().any()"
   ]
  },
  {
   "cell_type": "code",
   "execution_count": 5,
   "metadata": {
    "colab": {
     "base_uri": "https://localhost:8080/",
     "height": 69
    },
    "colab_type": "code",
    "executionInfo": {
     "elapsed": 1497,
     "status": "ok",
     "timestamp": 1597754403450,
     "user": {
      "displayName": "Deepthi Yamini",
      "photoUrl": "",
      "userId": "15042166041558652979"
     },
     "user_tz": -330
    },
    "id": "SePeCMTFa6_G",
    "outputId": "10b7a036-ce3c-433d-ab76-32800ef701ee"
   },
   "outputs": [
    {
     "data": {
      "text/plain": [
       "Date     0\n",
       "Price    1\n",
       "dtype: int64"
      ]
     },
     "execution_count": 5,
     "metadata": {},
     "output_type": "execute_result"
    }
   ],
   "source": [
    "dataset.isnull().sum()"
   ]
  },
  {
   "cell_type": "code",
   "execution_count": 6,
   "metadata": {
    "colab": {
     "base_uri": "https://localhost:8080/",
     "height": 51
    },
    "colab_type": "code",
    "executionInfo": {
     "elapsed": 2584,
     "status": "ok",
     "timestamp": 1597756681950,
     "user": {
      "displayName": "Deepthi Yamini",
      "photoUrl": "",
      "userId": "15042166041558652979"
     },
     "user_tz": -330
    },
    "id": "C2tfqSBYe6vh",
    "outputId": "186201e9-b0e7-491b-b408-410d20c82cdc"
   },
   "outputs": [
    {
     "data": {
      "text/plain": [
       "0    2.75\n",
       "dtype: float64"
      ]
     },
     "execution_count": 6,
     "metadata": {},
     "output_type": "execute_result"
    }
   ],
   "source": [
    "dataset [\"Price\"].mode()"
   ]
  },
  {
   "cell_type": "code",
   "execution_count": 7,
   "metadata": {
    "colab": {},
    "colab_type": "code",
    "id": "zdM5Q3xpfFtS"
   },
   "outputs": [],
   "source": [
    " dataset [\"Price\"].fillna(dataset [\"Price\"].mean(),inplace=True)"
   ]
  },
  {
   "cell_type": "code",
   "execution_count": 8,
   "metadata": {
    "colab": {
     "base_uri": "https://localhost:8080/",
     "height": 69
    },
    "colab_type": "code",
    "executionInfo": {
     "elapsed": 1773,
     "status": "ok",
     "timestamp": 1597756691261,
     "user": {
      "displayName": "Deepthi Yamini",
      "photoUrl": "",
      "userId": "15042166041558652979"
     },
     "user_tz": -330
    },
    "id": "n8z4PKDthIMp",
    "outputId": "33c2f0cc-3f2c-493b-df35-7887267288d2"
   },
   "outputs": [
    {
     "data": {
      "text/plain": [
       "Date     False\n",
       "Price    False\n",
       "dtype: bool"
      ]
     },
     "execution_count": 8,
     "metadata": {},
     "output_type": "execute_result"
    }
   ],
   "source": [
    " dataset.isnull().any()"
   ]
  },
  {
   "cell_type": "code",
   "execution_count": 9,
   "metadata": {},
   "outputs": [
    {
     "data": {
      "text/html": [
       "<div>\n",
       "<style scoped>\n",
       "    .dataframe tbody tr th:only-of-type {\n",
       "        vertical-align: middle;\n",
       "    }\n",
       "\n",
       "    .dataframe tbody tr th {\n",
       "        vertical-align: top;\n",
       "    }\n",
       "\n",
       "    .dataframe thead th {\n",
       "        text-align: right;\n",
       "    }\n",
       "</style>\n",
       "<table border=\"1\" class=\"dataframe\">\n",
       "  <thead>\n",
       "    <tr style=\"text-align: right;\">\n",
       "      <th></th>\n",
       "      <th>Date</th>\n",
       "      <th>Price</th>\n",
       "    </tr>\n",
       "  </thead>\n",
       "  <tbody>\n",
       "    <tr>\n",
       "      <th>0</th>\n",
       "      <td>1997-01-07</td>\n",
       "      <td>3.82</td>\n",
       "    </tr>\n",
       "    <tr>\n",
       "      <th>1</th>\n",
       "      <td>1997-01-08</td>\n",
       "      <td>3.80</td>\n",
       "    </tr>\n",
       "    <tr>\n",
       "      <th>2</th>\n",
       "      <td>1997-01-09</td>\n",
       "      <td>3.61</td>\n",
       "    </tr>\n",
       "    <tr>\n",
       "      <th>3</th>\n",
       "      <td>1997-01-10</td>\n",
       "      <td>3.92</td>\n",
       "    </tr>\n",
       "    <tr>\n",
       "      <th>4</th>\n",
       "      <td>1997-01-13</td>\n",
       "      <td>4.00</td>\n",
       "    </tr>\n",
       "  </tbody>\n",
       "</table>\n",
       "</div>"
      ],
      "text/plain": [
       "         Date  Price\n",
       "0  1997-01-07   3.82\n",
       "1  1997-01-08   3.80\n",
       "2  1997-01-09   3.61\n",
       "3  1997-01-10   3.92\n",
       "4  1997-01-13   4.00"
      ]
     },
     "execution_count": 9,
     "metadata": {},
     "output_type": "execute_result"
    }
   ],
   "source": [
    "dataset.head()"
   ]
  },
  {
   "cell_type": "code",
   "execution_count": 10,
   "metadata": {},
   "outputs": [],
   "source": [
    "dataset['year']=pd.DatetimeIndex(dataset['Date']).year"
   ]
  },
  {
   "cell_type": "code",
   "execution_count": 1,
   "metadata": {},
   "outputs": [
    {
     "ename": "NameError",
     "evalue": "name 'dataset' is not defined",
     "output_type": "error",
     "traceback": [
      "\u001b[1;31m---------------------------------------------------------------------------\u001b[0m",
      "\u001b[1;31mNameError\u001b[0m                                 Traceback (most recent call last)",
      "\u001b[1;32m<ipython-input-1-d48d03506017>\u001b[0m in \u001b[0;36m<module>\u001b[1;34m\u001b[0m\n\u001b[1;32m----> 1\u001b[1;33m \u001b[0mdataset\u001b[0m\u001b[1;33m.\u001b[0m\u001b[0mhead\u001b[0m\u001b[1;33m(\u001b[0m\u001b[1;33m)\u001b[0m\u001b[1;33m\u001b[0m\u001b[1;33m\u001b[0m\u001b[0m\n\u001b[0m",
      "\u001b[1;31mNameError\u001b[0m: name 'dataset' is not defined"
     ]
    }
   ],
   "source": [
    "dataset.head()"
   ]
  },
  {
   "cell_type": "code",
   "execution_count": 12,
   "metadata": {},
   "outputs": [],
   "source": [
    "dataset['month']=pd.DatetimeIndex(dataset['Date']).month"
   ]
  },
  {
   "cell_type": "code",
   "execution_count": 13,
   "metadata": {},
   "outputs": [],
   "source": [
    "dataset['day']=pd.DatetimeIndex(dataset['Date']).day"
   ]
  },
  {
   "cell_type": "code",
   "execution_count": 14,
   "metadata": {},
   "outputs": [
    {
     "data": {
      "text/html": [
       "<div>\n",
       "<style scoped>\n",
       "    .dataframe tbody tr th:only-of-type {\n",
       "        vertical-align: middle;\n",
       "    }\n",
       "\n",
       "    .dataframe tbody tr th {\n",
       "        vertical-align: top;\n",
       "    }\n",
       "\n",
       "    .dataframe thead th {\n",
       "        text-align: right;\n",
       "    }\n",
       "</style>\n",
       "<table border=\"1\" class=\"dataframe\">\n",
       "  <thead>\n",
       "    <tr style=\"text-align: right;\">\n",
       "      <th></th>\n",
       "      <th>Date</th>\n",
       "      <th>Price</th>\n",
       "      <th>year</th>\n",
       "      <th>month</th>\n",
       "      <th>day</th>\n",
       "    </tr>\n",
       "  </thead>\n",
       "  <tbody>\n",
       "    <tr>\n",
       "      <th>0</th>\n",
       "      <td>1997-01-07</td>\n",
       "      <td>3.82</td>\n",
       "      <td>1997</td>\n",
       "      <td>1</td>\n",
       "      <td>7</td>\n",
       "    </tr>\n",
       "    <tr>\n",
       "      <th>1</th>\n",
       "      <td>1997-01-08</td>\n",
       "      <td>3.80</td>\n",
       "      <td>1997</td>\n",
       "      <td>1</td>\n",
       "      <td>8</td>\n",
       "    </tr>\n",
       "    <tr>\n",
       "      <th>2</th>\n",
       "      <td>1997-01-09</td>\n",
       "      <td>3.61</td>\n",
       "      <td>1997</td>\n",
       "      <td>1</td>\n",
       "      <td>9</td>\n",
       "    </tr>\n",
       "    <tr>\n",
       "      <th>3</th>\n",
       "      <td>1997-01-10</td>\n",
       "      <td>3.92</td>\n",
       "      <td>1997</td>\n",
       "      <td>1</td>\n",
       "      <td>10</td>\n",
       "    </tr>\n",
       "    <tr>\n",
       "      <th>4</th>\n",
       "      <td>1997-01-13</td>\n",
       "      <td>4.00</td>\n",
       "      <td>1997</td>\n",
       "      <td>1</td>\n",
       "      <td>13</td>\n",
       "    </tr>\n",
       "  </tbody>\n",
       "</table>\n",
       "</div>"
      ],
      "text/plain": [
       "         Date  Price  year  month  day\n",
       "0  1997-01-07   3.82  1997      1    7\n",
       "1  1997-01-08   3.80  1997      1    8\n",
       "2  1997-01-09   3.61  1997      1    9\n",
       "3  1997-01-10   3.92  1997      1   10\n",
       "4  1997-01-13   4.00  1997      1   13"
      ]
     },
     "execution_count": 14,
     "metadata": {},
     "output_type": "execute_result"
    }
   ],
   "source": [
    "dataset.head()"
   ]
  },
  {
   "cell_type": "code",
   "execution_count": 15,
   "metadata": {},
   "outputs": [],
   "source": [
    "dataset.drop('Date',axis=1,inplace=True)"
   ]
  },
  {
   "cell_type": "code",
   "execution_count": 16,
   "metadata": {},
   "outputs": [
    {
     "data": {
      "text/html": [
       "<div>\n",
       "<style scoped>\n",
       "    .dataframe tbody tr th:only-of-type {\n",
       "        vertical-align: middle;\n",
       "    }\n",
       "\n",
       "    .dataframe tbody tr th {\n",
       "        vertical-align: top;\n",
       "    }\n",
       "\n",
       "    .dataframe thead th {\n",
       "        text-align: right;\n",
       "    }\n",
       "</style>\n",
       "<table border=\"1\" class=\"dataframe\">\n",
       "  <thead>\n",
       "    <tr style=\"text-align: right;\">\n",
       "      <th></th>\n",
       "      <th>Price</th>\n",
       "      <th>year</th>\n",
       "      <th>month</th>\n",
       "      <th>day</th>\n",
       "    </tr>\n",
       "  </thead>\n",
       "  <tbody>\n",
       "    <tr>\n",
       "      <th>0</th>\n",
       "      <td>3.82</td>\n",
       "      <td>1997</td>\n",
       "      <td>1</td>\n",
       "      <td>7</td>\n",
       "    </tr>\n",
       "    <tr>\n",
       "      <th>1</th>\n",
       "      <td>3.80</td>\n",
       "      <td>1997</td>\n",
       "      <td>1</td>\n",
       "      <td>8</td>\n",
       "    </tr>\n",
       "    <tr>\n",
       "      <th>2</th>\n",
       "      <td>3.61</td>\n",
       "      <td>1997</td>\n",
       "      <td>1</td>\n",
       "      <td>9</td>\n",
       "    </tr>\n",
       "    <tr>\n",
       "      <th>3</th>\n",
       "      <td>3.92</td>\n",
       "      <td>1997</td>\n",
       "      <td>1</td>\n",
       "      <td>10</td>\n",
       "    </tr>\n",
       "    <tr>\n",
       "      <th>4</th>\n",
       "      <td>4.00</td>\n",
       "      <td>1997</td>\n",
       "      <td>1</td>\n",
       "      <td>13</td>\n",
       "    </tr>\n",
       "  </tbody>\n",
       "</table>\n",
       "</div>"
      ],
      "text/plain": [
       "   Price  year  month  day\n",
       "0   3.82  1997      1    7\n",
       "1   3.80  1997      1    8\n",
       "2   3.61  1997      1    9\n",
       "3   3.92  1997      1   10\n",
       "4   4.00  1997      1   13"
      ]
     },
     "execution_count": 16,
     "metadata": {},
     "output_type": "execute_result"
    }
   ],
   "source": [
    "dataset.head()"
   ]
  },
  {
   "cell_type": "code",
   "execution_count": 17,
   "metadata": {
    "colab": {},
    "colab_type": "code",
    "executionInfo": {
     "elapsed": 3349,
     "status": "ok",
     "timestamp": 1597759341467,
     "user": {
      "displayName": "Deepthi Yamini",
      "photoUrl": "",
      "userId": "15042166041558652979"
     },
     "user_tz": -330
    },
    "id": "56CHzzRZhMR3"
   },
   "outputs": [],
   "source": [
    "x=dataset.iloc[:,1:4].values\n",
    "y=dataset.iloc[:,0:1].values"
   ]
  },
  {
   "cell_type": "code",
   "execution_count": 18,
   "metadata": {
    "colab": {},
    "colab_type": "code",
    "executionInfo": {
     "elapsed": 1214,
     "status": "ok",
     "timestamp": 1597760370241,
     "user": {
      "displayName": "Deepthi Yamini",
      "photoUrl": "",
      "userId": "15042166041558652979"
     },
     "user_tz": -330
    },
    "id": "0X7ow7bwhcbO"
   },
   "outputs": [],
   "source": [
    "from sklearn.model_selection import train_test_split\n",
    "x_train,x_test,y_train,y_test=train_test_split(x,y,test_size=0.2,random_state=0)"
   ]
  },
  {
   "cell_type": "code",
   "execution_count": 19,
   "metadata": {
    "colab": {
     "base_uri": "https://localhost:8080/",
     "height": 34
    },
    "colab_type": "code",
    "executionInfo": {
     "elapsed": 2179,
     "status": "ok",
     "timestamp": 1597759473529,
     "user": {
      "displayName": "Deepthi Yamini",
      "photoUrl": "",
      "userId": "15042166041558652979"
     },
     "user_tz": -330
    },
    "id": "t-cAZNw5h-bZ",
    "outputId": "fdef68b1-6df4-4fcd-eb7b-867fc14dd48e"
   },
   "outputs": [
    {
     "data": {
      "text/plain": [
       "(4750, 3)"
      ]
     },
     "execution_count": 19,
     "metadata": {},
     "output_type": "execute_result"
    }
   ],
   "source": [
    "x_train.shape"
   ]
  },
  {
   "cell_type": "code",
   "execution_count": 20,
   "metadata": {
    "colab": {
     "base_uri": "https://localhost:8080/",
     "height": 34
    },
    "colab_type": "code",
    "executionInfo": {
     "elapsed": 2294,
     "status": "ok",
     "timestamp": 1597759480191,
     "user": {
      "displayName": "Deepthi Yamini",
      "photoUrl": "",
      "userId": "15042166041558652979"
     },
     "user_tz": -330
    },
    "id": "qQrVFf8-iCLl",
    "outputId": "621e304d-abb4-40db-a551-f0f1368e08aa"
   },
   "outputs": [
    {
     "data": {
      "text/plain": [
       "(4750, 1)"
      ]
     },
     "execution_count": 20,
     "metadata": {},
     "output_type": "execute_result"
    }
   ],
   "source": [
    "y_train.shape"
   ]
  },
  {
   "cell_type": "code",
   "execution_count": 21,
   "metadata": {
    "colab": {
     "base_uri": "https://localhost:8080/",
     "height": 54
    },
    "colab_type": "code",
    "executionInfo": {
     "elapsed": 1497,
     "status": "ok",
     "timestamp": 1597759483469,
     "user": {
      "displayName": "Deepthi Yamini",
      "photoUrl": "",
      "userId": "15042166041558652979"
     },
     "user_tz": -330
    },
    "id": "jq2u4RBelxZj",
    "outputId": "3b5b3dc8-a5bd-4c00-fdf1-71fb19991aec"
   },
   "outputs": [
    {
     "data": {
      "text/plain": [
       "LinearRegression(copy_X=True, fit_intercept=True, n_jobs=None, normalize=False)"
      ]
     },
     "execution_count": 21,
     "metadata": {},
     "output_type": "execute_result"
    }
   ],
   "source": [
    " from sklearn.linear_model import LinearRegression\n",
    "regressor=LinearRegression()\n",
    "regressor.fit(x_train,y_train)"
   ]
  },
  {
   "cell_type": "code",
   "execution_count": 22,
   "metadata": {
    "colab": {},
    "colab_type": "code",
    "executionInfo": {
     "elapsed": 1234,
     "status": "ok",
     "timestamp": 1597759549458,
     "user": {
      "displayName": "Deepthi Yamini",
      "photoUrl": "",
      "userId": "15042166041558652979"
     },
     "user_tz": -330
    },
    "id": "D3yz2atN4zYu"
   },
   "outputs": [],
   "source": [
    "y_pred=regressor.predict(x_test)"
   ]
  },
  {
   "cell_type": "code",
   "execution_count": 23,
   "metadata": {
    "colab": {
     "base_uri": "https://localhost:8080/",
     "height": 138
    },
    "colab_type": "code",
    "executionInfo": {
     "elapsed": 1247,
     "status": "ok",
     "timestamp": 1597759575155,
     "user": {
      "displayName": "Deepthi Yamini",
      "photoUrl": "",
      "userId": "15042166041558652979"
     },
     "user_tz": -330
    },
    "id": "iJCYV1V84_jp",
    "outputId": "6a53e44e-2465-4105-f54b-27853a8676a9"
   },
   "outputs": [
    {
     "data": {
      "text/plain": [
       "array([[2009,    9,   24],\n",
       "       [2018,    9,   21],\n",
       "       [2008,    9,    3],\n",
       "       ...,\n",
       "       [2012,    3,   27],\n",
       "       [2009,    6,   22],\n",
       "       [2003,   11,   19]], dtype=int64)"
      ]
     },
     "execution_count": 23,
     "metadata": {},
     "output_type": "execute_result"
    }
   ],
   "source": [
    "x_test"
   ]
  },
  {
   "cell_type": "code",
   "execution_count": 24,
   "metadata": {
    "colab": {
     "base_uri": "https://localhost:8080/",
     "height": 138
    },
    "colab_type": "code",
    "executionInfo": {
     "elapsed": 1201,
     "status": "ok",
     "timestamp": 1597759572063,
     "user": {
      "displayName": "Deepthi Yamini",
      "photoUrl": "",
      "userId": "15042166041558652979"
     },
     "user_tz": -330
    },
    "id": "a4Yf7FhJ5B-2",
    "outputId": "d090f649-e4e2-4c10-b87c-af5f2ff049c4"
   },
   "outputs": [
    {
     "data": {
      "text/plain": [
       "array([[3.56],\n",
       "       [3.02],\n",
       "       [7.26],\n",
       "       ...,\n",
       "       [2.09],\n",
       "       [4.01],\n",
       "       [4.46]])"
      ]
     },
     "execution_count": 24,
     "metadata": {},
     "output_type": "execute_result"
    }
   ],
   "source": [
    "y_test"
   ]
  },
  {
   "cell_type": "code",
   "execution_count": 25,
   "metadata": {
    "colab": {
     "base_uri": "https://localhost:8080/",
     "height": 138
    },
    "colab_type": "code",
    "executionInfo": {
     "elapsed": 1170,
     "status": "ok",
     "timestamp": 1597759588940,
     "user": {
      "displayName": "Deepthi Yamini",
      "photoUrl": "",
      "userId": "15042166041558652979"
     },
     "user_tz": -330
    },
    "id": "qXe_PYCe5GJW",
    "outputId": "94bebd74-0051-4683-b0b9-4d1fcf8b8048"
   },
   "outputs": [
    {
     "data": {
      "text/plain": [
       "array([[4.15895695],\n",
       "       [3.66216558],\n",
       "       [4.17842349],\n",
       "       ...,\n",
       "       [3.96917871],\n",
       "       [4.14016655],\n",
       "       [4.48872013]])"
      ]
     },
     "execution_count": 25,
     "metadata": {},
     "output_type": "execute_result"
    }
   ],
   "source": [
    "y_pred"
   ]
  },
  {
   "cell_type": "code",
   "execution_count": 26,
   "metadata": {
    "colab": {},
    "colab_type": "code",
    "executionInfo": {
     "elapsed": 1281,
     "status": "ok",
     "timestamp": 1597759729862,
     "user": {
      "displayName": "Deepthi Yamini",
      "photoUrl": "",
      "userId": "15042166041558652979"
     },
     "user_tz": -330
    },
    "id": "qB9_EGAS5J8f"
   },
   "outputs": [],
   "source": [
    "from sklearn.metrics import r2_score\n",
    "accuracy=r2_score(y_test,y_pred)"
   ]
  },
  {
   "cell_type": "code",
   "execution_count": 27,
   "metadata": {
    "colab": {
     "base_uri": "https://localhost:8080/",
     "height": 34
    },
    "colab_type": "code",
    "executionInfo": {
     "elapsed": 1421,
     "status": "ok",
     "timestamp": 1597759740844,
     "user": {
      "displayName": "Deepthi Yamini",
      "photoUrl": "",
      "userId": "15042166041558652979"
     },
     "user_tz": -330
    },
    "id": "BMjtJpzB5sBQ",
    "outputId": "7dfa0454-7b30-4dbd-8226-f9e112da24b2"
   },
   "outputs": [
    {
     "data": {
      "text/plain": [
       "0.028329691883523966"
      ]
     },
     "execution_count": 27,
     "metadata": {},
     "output_type": "execute_result"
    }
   ],
   "source": [
    "accuracy"
   ]
  },
  {
   "cell_type": "code",
   "execution_count": 28,
   "metadata": {
    "colab": {},
    "colab_type": "code",
    "executionInfo": {
     "elapsed": 1473,
     "status": "ok",
     "timestamp": 1597759843869,
     "user": {
      "displayName": "Deepthi Yamini",
      "photoUrl": "",
      "userId": "15042166041558652979"
     },
     "user_tz": -330
    },
    "id": "KwgRIl7B5z4W"
   },
   "outputs": [],
   "source": [
    "yp=regressor.predict([[1997,1,8]])"
   ]
  },
  {
   "cell_type": "code",
   "execution_count": 29,
   "metadata": {
    "colab": {
     "base_uri": "https://localhost:8080/",
     "height": 34
    },
    "colab_type": "code",
    "executionInfo": {
     "elapsed": 1240,
     "status": "ok",
     "timestamp": 1597759849702,
     "user": {
      "displayName": "Deepthi Yamini",
      "photoUrl": "",
      "userId": "15042166041558652979"
     },
     "user_tz": -330
    },
    "id": "5WVbkyj46HMo",
    "outputId": "6499a002-dd47-4aa3-a3d0-9d689145b2a1"
   },
   "outputs": [
    {
     "data": {
      "text/plain": [
       "array([[4.74667161]])"
      ]
     },
     "execution_count": 29,
     "metadata": {},
     "output_type": "execute_result"
    }
   ],
   "source": [
    "yp"
   ]
  },
  {
   "cell_type": "code",
   "execution_count": 30,
   "metadata": {},
   "outputs": [
    {
     "data": {
      "text/plain": [
       "<matplotlib.axes._subplots.AxesSubplot at 0x21a4af3fa08>"
      ]
     },
     "execution_count": 30,
     "metadata": {},
     "output_type": "execute_result"
    },
    {
     "data": {
      "image/png": "[encoded data removed]",
      "text/plain": [
       "<Figure size 432x288 with 1 Axes>"
      ]
     },
     "metadata": {
      "needs_background": "light"
     },
     "output_type": "display_data"
    }
   ],
   "source": [
    "import seaborn as sns\n",
    "sns.lineplot(x=\"year\",y=\"Price\",data=dataset)"
   ]
  },
  {
   "cell_type": "code",
   "execution_count": 31,
   "metadata": {},
   "outputs": [
    {
     "data": {
      "text/plain": [
       "<matplotlib.axes._subplots.AxesSubplot at 0x21a4b4be648>"
      ]
     },
     "execution_count": 31,
     "metadata": {},
     "output_type": "execute_result"
    },
    {
     "data": {
      "image/png": "[encoded data removed]",
      "text/plain": [
       "<Figure size 432x288 with 1 Axes>"
      ]
     },
     "metadata": {
      "needs_background": "light"
     },
     "output_type": "display_data"
    }
   ],
   "source": [
    "sns.lineplot(x=\"month\",y=\"Price\",data=dataset)"
   ]
  },
  {
   "cell_type": "code",
   "execution_count": 32,
   "metadata": {},
   "outputs": [
    {
     "data": {
      "text/plain": [
       "<matplotlib.axes._subplots.AxesSubplot at 0x21a4b0253c8>"
      ]
     },
     "execution_count": 32,
     "metadata": {},
     "output_type": "execute_result"
    },
    {
     "data": {
      "image/png": "[encoded data removed]",
      "text/plain": [
       "<Figure size 432x288 with 1 Axes>"
      ]
     },
     "metadata": {
      "needs_background": "light"
     },
     "output_type": "display_data"
    }
   ],
   "source": [
    "sns.barplot(x=\"year\",y=\"Price\",data=dataset)"
   ]
  },
  {
   "cell_type": "code",
   "execution_count": 33,
   "metadata": {},
   "outputs": [
    {
     "data": {
      "text/plain": [
       "<matplotlib.axes._subplots.AxesSubplot at 0x21a4b6819c8>"
      ]
     },
     "execution_count": 33,
     "metadata": {},
     "output_type": "execute_result"
    },
    {
     "data": {
      "image/png": "[encoded data removed]",
      "text/plain": [
       "<Figure size 432x288 with 1 Axes>"
      ]
     },
     "metadata": {
      "needs_background": "light"
     },
     "output_type": "display_data"
    }
   ],
   "source": [
    "sns.barplot(x=\"month\",y=\"Price\",data=dataset)"
   ]
  },
  {
   "cell_type": "code",
   "execution_count": null,
   "metadata": {},
   "outputs": [],
   "source": [
    "import pickle\n",
    "pickle.dump(regressor,open('price.pkl','wb'))\n",
    "model = pickle.load(open('price.pkl','rb'))"
   ]
  },
  {
   "cell_type": "code",
   "execution_count": null,
   "metadata": {},
   "outputs": [],
   "source": []
  }
 ],
 "metadata": {
  "colab": {
   "authorship_tag": "ABX9TyP6nT7vpGIayWkYP1N4/QVq",
   "collapsed_sections": [],
   "name": "Mini project.ipynb",
   "provenance": []
  },
  "kernelspec": {
   "display_name": "Python 3",
   "language": "python",
   "name": "python3"
  },
  "language_info": {
   "codemirror_mode": {
    "name": "ipython",
    "version": 3
   },
   "file_extension": ".py",
   "mimetype": "text/x-python",
   "name": "python",
   "nbconvert_exporter": "python",
   "pygments_lexer": "ipython3",
   "version": "3.7.6"
  }
 },
 "nbformat": 4,
 "nbformat_minor": 1
}
